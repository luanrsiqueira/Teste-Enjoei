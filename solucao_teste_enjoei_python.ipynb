{
  "nbformat": 4,
  "nbformat_minor": 0,
  "metadata": {
    "colab": {
      "provenance": []
    },
    "kernelspec": {
      "name": "python3",
      "display_name": "Python 3"
    },
    "language_info": {
      "name": "python"
    }
  },
  "cells": [
    {
      "cell_type": "code",
      "execution_count": 9,
      "metadata": {
        "id": "ueRjEiKHqcOw"
      },
      "outputs": [],
      "source": [
        "import requests\n",
        "import json\n",
        "import pandas as pd"
      ]
    },
    {
      "cell_type": "code",
      "source": [
        "# Requisição dos usuários na API\n",
        "users = \"https://fakestoreapi.com/users/\"\n",
        "request_users = requests.get(users)\n",
        "response_users = request_users.json()\n",
        "\n",
        "# Armazenamento em um DataFrame Pandas\n",
        "df_users = pd.DataFrame(response_users)"
      ],
      "metadata": {
        "id": "tkPJEGgK8uum"
      },
      "execution_count": 11,
      "outputs": []
    },
    {
      "cell_type": "code",
      "source": [
        "# Requisição dos objetos que estão no carrinho\n",
        "carts = \"https://fakestoreapi.com/carts\"\n",
        "request_carts = requests.get(carts)\n",
        "response_carts = request_carts.json()\n",
        "\n",
        "carts_list = []\n",
        "for cart in response_carts:\n",
        "  for product in cart['products']:\n",
        "      carts_list.append({\n",
        "          \"id_usuario\" : cart['userId'],\n",
        "          \"id_produto\": product['productId'],\n",
        "          \"quantidade\": product['quantity'],\n",
        "          \"data\": cart['date'],\n",
        "      })\n",
        "df_carts = pd.DataFrame(carts_list)\n",
        "# Conversão data\n",
        "df_carts['data'] = pd.to_datetime(df_carts['data']).dt.strftime('%Y-%m-%d')"
      ],
      "metadata": {
        "id": "CD1m_-vqASOV"
      },
      "execution_count": 12,
      "outputs": []
    },
    {
      "cell_type": "code",
      "source": [
        "# Requisição de todos os produtos\n",
        "products = \"https://fakestoreapi.com/products\"\n",
        "request_products = requests.get(products)\n",
        "response_products = request_products.json()\n",
        "\n",
        "df_products = pd.DataFrame(response_products)\n",
        "df_products = df_products[['id', 'category']]\n",
        "df_products = df_products.rename(columns={'category': 'categoria'})"
      ],
      "metadata": {
        "id": "fUbozkdUuCJ9"
      },
      "execution_count": 13,
      "outputs": []
    },
    {
      "cell_type": "code",
      "source": [
        "# Join entre o dataframe \"usuário\" e \"carrinho\"\n",
        "merged_df = pd.merge(df_users, df_carts, left_on='id', right_on='id_usuario', how='inner')"
      ],
      "metadata": {
        "id": "eqNbLOEiO-6j"
      },
      "execution_count": 14,
      "outputs": []
    },
    {
      "cell_type": "code",
      "source": [
        "# Join entre o 'merged_df' com o dataframe \"produtos\"\n",
        "merged_df_2 = pd.merge(merged_df, df_products, left_on='id_produto', right_on='id', how='inner')"
      ],
      "metadata": {
        "id": "lCH-d9xDRQoo"
      },
      "execution_count": 15,
      "outputs": []
    },
    {
      "cell_type": "code",
      "source": [
        "# Somatório da quantidade de produtos e trazendo a data mais recente em cada usuário adicionou ao carrinho\n",
        "grouped_df = merged_df_2.groupby(['id_usuario', 'id_produto', 'categoria']).agg(\n",
        "    total_quantidade=('quantidade', 'sum'),\n",
        "    ultima_data=('data', 'max')\n",
        ").reset_index()"
      ],
      "metadata": {
        "id": "qiYnJqQkaHKz"
      },
      "execution_count": 16,
      "outputs": []
    },
    {
      "cell_type": "code",
      "source": [
        "# Extração da data mais recente e categoria com mais produtos adicionados pelo usuário\n",
        "idx = grouped_df.groupby('id_usuario')['total_quantidade'].idxmax()\n",
        "\n",
        "final_df = grouped_df.loc[idx].reset_index(drop=True)\n",
        "final_df = final_df[['id_usuario','ultima_data','categoria']]"
      ],
      "metadata": {
        "id": "D8YYDEBBasQf"
      },
      "execution_count": 20,
      "outputs": []
    },
    {
      "cell_type": "code",
      "source": [
        "# Salvar em arquivo CSV\n",
        "output_path = \"./fakeStorePython.csv\"\n",
        "final_df.to_csv(output_path, index=False)"
      ],
      "metadata": {
        "id": "NA5g-4SuOu9W"
      },
      "execution_count": 22,
      "outputs": []
    }
  ]
}